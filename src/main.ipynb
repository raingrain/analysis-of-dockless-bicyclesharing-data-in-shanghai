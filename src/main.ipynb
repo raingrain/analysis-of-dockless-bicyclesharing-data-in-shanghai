{
 "cells": [
  {
   "cell_type": "markdown",
   "source": [
    "# 不知道叫啥"
   ],
   "metadata": {
    "collapsed": false
   }
  },
  {
   "cell_type": "code",
   "execution_count": 1,
   "metadata": {
    "collapsed": true,
    "ExecuteTime": {
     "end_time": "2024-02-02T04:27:12.022011100Z",
     "start_time": "2024-02-02T04:27:11.280991600Z"
    }
   },
   "outputs": [],
   "source": [
    "# 导入所有需要的包\n",
    "import math\n",
    "import numpy as np\n",
    "import pandas as pd\n",
    "import geopandas as gpd\n",
    "from shapely.geometry import Polygon, LineString\n",
    "import matplotlib as mpl\n",
    "import matplotlib.pyplot as plt\n",
    "import seaborn as sns"
   ]
  },
  {
   "cell_type": "markdown",
   "source": [
    "## 1 数据导入"
   ],
   "metadata": {
    "collapsed": false
   }
  },
  {
   "cell_type": "code",
   "execution_count": 3,
   "outputs": [
    {
     "data": {
      "text/plain": "                                  BIKE_ID            DATA_TIME  LOCK_STATUS  \\\n0        713ED7B044393233E0533C0BA8C09291   2018-09-01 0:00:49            0   \n1        713ED78FC0813233E0533C0BA8C09291   2018-09-01 0:00:49            0   \n2        7169493311DD0D74E0533E0BA8C01BB4   2018-09-01 0:00:12            1   \n3        713ED795F1033233E0533C0BA8C09291   2018-09-01 0:00:06            1   \n4        713ED7AF8E213233E0533C0BA8C09291   2018-09-01 0:00:49            0   \n...                                   ...                  ...          ...   \n3063365  713ED79FD6C23233E0533C0BA8C09291  2018-09-01 10:25:50            1   \n3063366  713ED79F3BAF3233E0533C0BA8C09291  2018-09-01 14:46:43            1   \n3063367  713ED7969D603233E0533C0BA8C09291   2018-09-01 2:49:39            1   \n3063368  713ED7A760F03233E0533C0BA8C09291  2018-09-01 18:24:33            1   \n3063369  7247FC082AFB7E9BE0533E0BA8C0C8E2  2018-09-01 23:50:10            0   \n\n          LONGITUDE   LATITUDE  \n0        121.531489  31.263296  \n1        121.363938  31.212551  \n2        121.488291  31.264857  \n3        121.345189  31.135745  \n4        121.364748  31.258107  \n...             ...        ...  \n3063365  121.449317  31.246356  \n3063366  121.429002  31.183046  \n3063367  121.223636  31.231712  \n3063368  121.673009  31.301073  \n3063369  121.451884  31.217402  \n\n[3063370 rows x 5 columns]",
      "text/html": "<div>\n<style scoped>\n    .dataframe tbody tr th:only-of-type {\n        vertical-align: middle;\n    }\n\n    .dataframe tbody tr th {\n        vertical-align: top;\n    }\n\n    .dataframe thead th {\n        text-align: right;\n    }\n</style>\n<table border=\"1\" class=\"dataframe\">\n  <thead>\n    <tr style=\"text-align: right;\">\n      <th></th>\n      <th>BIKE_ID</th>\n      <th>DATA_TIME</th>\n      <th>LOCK_STATUS</th>\n      <th>LONGITUDE</th>\n      <th>LATITUDE</th>\n    </tr>\n  </thead>\n  <tbody>\n    <tr>\n      <th>0</th>\n      <td>713ED7B044393233E0533C0BA8C09291</td>\n      <td>2018-09-01 0:00:49</td>\n      <td>0</td>\n      <td>121.531489</td>\n      <td>31.263296</td>\n    </tr>\n    <tr>\n      <th>1</th>\n      <td>713ED78FC0813233E0533C0BA8C09291</td>\n      <td>2018-09-01 0:00:49</td>\n      <td>0</td>\n      <td>121.363938</td>\n      <td>31.212551</td>\n    </tr>\n    <tr>\n      <th>2</th>\n      <td>7169493311DD0D74E0533E0BA8C01BB4</td>\n      <td>2018-09-01 0:00:12</td>\n      <td>1</td>\n      <td>121.488291</td>\n      <td>31.264857</td>\n    </tr>\n    <tr>\n      <th>3</th>\n      <td>713ED795F1033233E0533C0BA8C09291</td>\n      <td>2018-09-01 0:00:06</td>\n      <td>1</td>\n      <td>121.345189</td>\n      <td>31.135745</td>\n    </tr>\n    <tr>\n      <th>4</th>\n      <td>713ED7AF8E213233E0533C0BA8C09291</td>\n      <td>2018-09-01 0:00:49</td>\n      <td>0</td>\n      <td>121.364748</td>\n      <td>31.258107</td>\n    </tr>\n    <tr>\n      <th>...</th>\n      <td>...</td>\n      <td>...</td>\n      <td>...</td>\n      <td>...</td>\n      <td>...</td>\n    </tr>\n    <tr>\n      <th>3063365</th>\n      <td>713ED79FD6C23233E0533C0BA8C09291</td>\n      <td>2018-09-01 10:25:50</td>\n      <td>1</td>\n      <td>121.449317</td>\n      <td>31.246356</td>\n    </tr>\n    <tr>\n      <th>3063366</th>\n      <td>713ED79F3BAF3233E0533C0BA8C09291</td>\n      <td>2018-09-01 14:46:43</td>\n      <td>1</td>\n      <td>121.429002</td>\n      <td>31.183046</td>\n    </tr>\n    <tr>\n      <th>3063367</th>\n      <td>713ED7969D603233E0533C0BA8C09291</td>\n      <td>2018-09-01 2:49:39</td>\n      <td>1</td>\n      <td>121.223636</td>\n      <td>31.231712</td>\n    </tr>\n    <tr>\n      <th>3063368</th>\n      <td>713ED7A760F03233E0533C0BA8C09291</td>\n      <td>2018-09-01 18:24:33</td>\n      <td>1</td>\n      <td>121.673009</td>\n      <td>31.301073</td>\n    </tr>\n    <tr>\n      <th>3063369</th>\n      <td>7247FC082AFB7E9BE0533E0BA8C0C8E2</td>\n      <td>2018-09-01 23:50:10</td>\n      <td>0</td>\n      <td>121.451884</td>\n      <td>31.217402</td>\n    </tr>\n  </tbody>\n</table>\n<p>3063370 rows × 5 columns</p>\n</div>"
     },
     "execution_count": 3,
     "metadata": {},
     "output_type": "execute_result"
    }
   ],
   "source": [
    "# 读取上海市2018年9月1日的共享单车数据\n",
    "data = pd.read_csv(r'./assets/data/data0901.csv')\n",
    "data"
   ],
   "metadata": {
    "collapsed": false,
    "ExecuteTime": {
     "end_time": "2024-02-02T04:27:30.711026600Z",
     "start_time": "2024-02-02T04:27:27.091598700Z"
    }
   }
  },
  {
   "cell_type": "markdown",
   "source": [
    "此时，数据中的 `DATA_TIME` 字段中的时间为字符串格式，直接将其格式转换为 `pandas` 内置的时间格式以便后续排序，并粗略筛选研究范围内的数据。"
   ],
   "metadata": {
    "collapsed": false
   }
  },
  {
   "cell_type": "code",
   "execution_count": 4,
   "outputs": [],
   "source": [
    "# 转换数据的时间\n",
    "data['DATA_TIME'] = pd.to_datetime(data['DATA_TIME'])\n",
    "# 筛选研究范围内的数据\n",
    "data = data[(data['LONGITUDE']<122)&\n",
    "            (data['LONGITUDE']>120)&\n",
    "            (data['LATITUDE']<32)&\n",
    "            (data['LATITUDE']>30)]"
   ],
   "metadata": {
    "collapsed": false,
    "ExecuteTime": {
     "end_time": "2024-02-02T04:27:31.643328900Z",
     "start_time": "2024-02-02T04:27:30.732006200Z"
    }
   }
  },
  {
   "cell_type": "markdown",
   "source": [
    "取出其中一辆单车的数据，并按时间顺序对数据排序，以便观察数据的采集情况。可以看到，单独取出一辆单车的数据并以时间排序，数据的锁状态为 `0` 和 `1` 交替出现。"
   ],
   "metadata": {
    "collapsed": false
   }
  },
  {
   "cell_type": "code",
   "execution_count": 5,
   "outputs": [
    {
     "data": {
      "text/plain": "                                  BIKE_ID           DATA_TIME  LOCK_STATUS  \\\n1767607  713ED79C59CC3233E0533C0BA8C09291 2018-09-01 14:06:54            0   \n1823717  713ED79C59CC3233E0533C0BA8C09291 2018-09-01 14:15:11            1   \n2278567  713ED79C59CC3233E0533C0BA8C09291 2018-09-01 16:45:28            0   \n2249403  713ED79C59CC3233E0533C0BA8C09291 2018-09-01 16:55:58            1   \n2370822  713ED79C59CC3233E0533C0BA8C09291 2018-09-01 17:50:09            0   \n2483733  713ED79C59CC3233E0533C0BA8C09291 2018-09-01 17:58:10            1   \n2545391  713ED79C59CC3233E0533C0BA8C09291 2018-09-01 18:43:44            0   \n2529933  713ED79C59CC3233E0533C0BA8C09291 2018-09-01 18:54:49            1   \n\n          LONGITUDE   LATITUDE  \n1767607  121.550754  31.247030  \n1823717  121.538810  31.240057  \n2278567  121.538906  31.239970  \n2249403  121.550667  31.247302  \n2370822  121.550707  31.247015  \n2483733  121.548652  31.241853  \n2545391  121.548426  31.241471  \n2529933  121.540243  31.248092  ",
      "text/html": "<div>\n<style scoped>\n    .dataframe tbody tr th:only-of-type {\n        vertical-align: middle;\n    }\n\n    .dataframe tbody tr th {\n        vertical-align: top;\n    }\n\n    .dataframe thead th {\n        text-align: right;\n    }\n</style>\n<table border=\"1\" class=\"dataframe\">\n  <thead>\n    <tr style=\"text-align: right;\">\n      <th></th>\n      <th>BIKE_ID</th>\n      <th>DATA_TIME</th>\n      <th>LOCK_STATUS</th>\n      <th>LONGITUDE</th>\n      <th>LATITUDE</th>\n    </tr>\n  </thead>\n  <tbody>\n    <tr>\n      <th>1767607</th>\n      <td>713ED79C59CC3233E0533C0BA8C09291</td>\n      <td>2018-09-01 14:06:54</td>\n      <td>0</td>\n      <td>121.550754</td>\n      <td>31.247030</td>\n    </tr>\n    <tr>\n      <th>1823717</th>\n      <td>713ED79C59CC3233E0533C0BA8C09291</td>\n      <td>2018-09-01 14:15:11</td>\n      <td>1</td>\n      <td>121.538810</td>\n      <td>31.240057</td>\n    </tr>\n    <tr>\n      <th>2278567</th>\n      <td>713ED79C59CC3233E0533C0BA8C09291</td>\n      <td>2018-09-01 16:45:28</td>\n      <td>0</td>\n      <td>121.538906</td>\n      <td>31.239970</td>\n    </tr>\n    <tr>\n      <th>2249403</th>\n      <td>713ED79C59CC3233E0533C0BA8C09291</td>\n      <td>2018-09-01 16:55:58</td>\n      <td>1</td>\n      <td>121.550667</td>\n      <td>31.247302</td>\n    </tr>\n    <tr>\n      <th>2370822</th>\n      <td>713ED79C59CC3233E0533C0BA8C09291</td>\n      <td>2018-09-01 17:50:09</td>\n      <td>0</td>\n      <td>121.550707</td>\n      <td>31.247015</td>\n    </tr>\n    <tr>\n      <th>2483733</th>\n      <td>713ED79C59CC3233E0533C0BA8C09291</td>\n      <td>2018-09-01 17:58:10</td>\n      <td>1</td>\n      <td>121.548652</td>\n      <td>31.241853</td>\n    </tr>\n    <tr>\n      <th>2545391</th>\n      <td>713ED79C59CC3233E0533C0BA8C09291</td>\n      <td>2018-09-01 18:43:44</td>\n      <td>0</td>\n      <td>121.548426</td>\n      <td>31.241471</td>\n    </tr>\n    <tr>\n      <th>2529933</th>\n      <td>713ED79C59CC3233E0533C0BA8C09291</td>\n      <td>2018-09-01 18:54:49</td>\n      <td>1</td>\n      <td>121.540243</td>\n      <td>31.248092</td>\n    </tr>\n  </tbody>\n</table>\n</div>"
     },
     "execution_count": 5,
     "metadata": {},
     "output_type": "execute_result"
    }
   ],
   "source": [
    "tmp = data[data['BIKE_ID']=='713ED79C59CC3233E0533C0BA8C09291']\n",
    "tmp.sort_values(by = ['DATA_TIME'])"
   ],
   "metadata": {
    "collapsed": false,
    "ExecuteTime": {
     "end_time": "2024-02-02T04:27:31.973477Z",
     "start_time": "2024-02-02T04:27:31.958483700Z"
    }
   }
  },
  {
   "cell_type": "markdown",
   "source": [
    "## 2 出行链重构"
   ],
   "metadata": {
    "collapsed": false
   }
  }
 ],
 "metadata": {
  "kernelspec": {
   "display_name": "Python 3",
   "language": "python",
   "name": "python3"
  },
  "language_info": {
   "codemirror_mode": {
    "name": "ipython",
    "version": 2
   },
   "file_extension": ".py",
   "mimetype": "text/x-python",
   "name": "python",
   "nbconvert_exporter": "python",
   "pygments_lexer": "ipython2",
   "version": "2.7.6"
  }
 },
 "nbformat": 4,
 "nbformat_minor": 0
}
